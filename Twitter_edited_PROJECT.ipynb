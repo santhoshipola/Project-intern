{
  "nbformat": 4,
  "nbformat_minor": 0,
  "metadata": {
    "colab": {
      "name": "Twitter edited PROJECT.ipynb",
      "provenance": [],
      "mount_file_id": "1giDONSXWUsifNDp6-kB1ioyEDXnGXR8d",
      "authorship_tag": "ABX9TyMY3ciu+UP/CoCRvnLp1TnW",
      "include_colab_link": true
    },
    "kernelspec": {
      "name": "python3",
      "display_name": "Python 3"
    }
  },
  "cells": [
    {
      "cell_type": "markdown",
      "metadata": {
        "id": "view-in-github",
        "colab_type": "text"
      },
      "source": [
        "<a href=\"https://colab.research.google.com/github/santhoshipola/Project-intern/blob/master/Twitter_edited_PROJECT.ipynb\" target=\"_parent\"><img src=\"https://colab.research.google.com/assets/colab-badge.svg\" alt=\"Open In Colab\"/></a>"
      ]
    },
    {
      "cell_type": "markdown",
      "metadata": {
        "id": "zy9E5QRkYj6_",
        "colab_type": "text"
      },
      "source": [
        "##**Classify whether the tweet is positive or negative**"
      ]
    },
    {
      "cell_type": "markdown",
      "metadata": {
        "id": "DmcARndUMsrR",
        "colab_type": "text"
      },
      "source": [
        "##Problem statement:\n",
        "Classify tweets from the datasets as either as positive or negative using three different\n",
        "Machine Learning Algorithms.\n",
        "They are:\n",
        "1. NAIVE BAYES ALGORITHM\n",
        "2. LOGISTIC REGRESSION\n",
        "3. DECISION TREE CLASSIFIER\n",
        "\n",
        "  To implement an algorithm for automatic classification of text into positive and\n",
        "negative. By this we can determine the attitude of the mass is positive or negative towards\n",
        "the point of interest.\n",
        " 80% of consumers get advice on products from social media. Twitter sentiment\n",
        "analysis allows you to keep track of what's being said about your product or service on\n",
        "social media and can help you detect angry customers or negative mentions before they\n",
        "turn into a major crisis.That is,it helps us in social media monitoring.\n"
      ]
    },
    {
      "cell_type": "markdown",
      "metadata": {
        "id": "muFm2H4gJvMy",
        "colab_type": "text"
      },
      "source": [
        "###Preprocessing the data:"
      ]
    },
    {
      "cell_type": "code",
      "metadata": {
        "id": "_RxRJAJ6WiPl",
        "colab_type": "code",
        "colab": {}
      },
      "source": [
        "#Importing the libraries required\n",
        "import pandas as pd\n",
        "import numpy as np\n",
        "import matplotlib.pyplot as plt\n",
        "import seaborn as sns"
      ],
      "execution_count": null,
      "outputs": []
    },
    {
      "cell_type": "code",
      "metadata": {
        "id": "BnZFQzOGIzXN",
        "colab_type": "code",
        "colab": {
          "base_uri": "https://localhost:8080/",
          "height": 406
        },
        "outputId": "b5f926c2-e002-4f4e-f381-799ae4f4c254"
      },
      "source": [
        "#Reading the training dataset\n",
        "info = pd.read_csv(\"/content/drive/My Drive/2020/train.csv\",encoding = 'latin-1')\n",
        "info"
      ],
      "execution_count": null,
      "outputs": [
        {
          "output_type": "execute_result",
          "data": {
            "text/html": [
              "<div>\n",
              "<style scoped>\n",
              "    .dataframe tbody tr th:only-of-type {\n",
              "        vertical-align: middle;\n",
              "    }\n",
              "\n",
              "    .dataframe tbody tr th {\n",
              "        vertical-align: top;\n",
              "    }\n",
              "\n",
              "    .dataframe thead th {\n",
              "        text-align: right;\n",
              "    }\n",
              "</style>\n",
              "<table border=\"1\" class=\"dataframe\">\n",
              "  <thead>\n",
              "    <tr style=\"text-align: right;\">\n",
              "      <th></th>\n",
              "      <th>id</th>\n",
              "      <th>label</th>\n",
              "      <th>tweet</th>\n",
              "    </tr>\n",
              "  </thead>\n",
              "  <tbody>\n",
              "    <tr>\n",
              "      <th>0</th>\n",
              "      <td>1</td>\n",
              "      <td>0</td>\n",
              "      <td>@user when a father is dysfunctional and is s...</td>\n",
              "    </tr>\n",
              "    <tr>\n",
              "      <th>1</th>\n",
              "      <td>2</td>\n",
              "      <td>0</td>\n",
              "      <td>@user @user thanks for #lyft credit i can't us...</td>\n",
              "    </tr>\n",
              "    <tr>\n",
              "      <th>2</th>\n",
              "      <td>3</td>\n",
              "      <td>0</td>\n",
              "      <td>bihday your majesty</td>\n",
              "    </tr>\n",
              "    <tr>\n",
              "      <th>3</th>\n",
              "      <td>4</td>\n",
              "      <td>0</td>\n",
              "      <td>#model   i love u take with u all the time in ...</td>\n",
              "    </tr>\n",
              "    <tr>\n",
              "      <th>4</th>\n",
              "      <td>5</td>\n",
              "      <td>0</td>\n",
              "      <td>factsguide: society now    #motivation</td>\n",
              "    </tr>\n",
              "    <tr>\n",
              "      <th>...</th>\n",
              "      <td>...</td>\n",
              "      <td>...</td>\n",
              "      <td>...</td>\n",
              "    </tr>\n",
              "    <tr>\n",
              "      <th>31957</th>\n",
              "      <td>31958</td>\n",
              "      <td>0</td>\n",
              "      <td>ate @user isz that youuu?Ã°ÂÂÂÃ°ÂÂÂÃ°ÂÂ...</td>\n",
              "    </tr>\n",
              "    <tr>\n",
              "      <th>31958</th>\n",
              "      <td>31959</td>\n",
              "      <td>0</td>\n",
              "      <td>to see nina turner on the airwaves trying to...</td>\n",
              "    </tr>\n",
              "    <tr>\n",
              "      <th>31959</th>\n",
              "      <td>31960</td>\n",
              "      <td>0</td>\n",
              "      <td>listening to sad songs on a monday morning otw...</td>\n",
              "    </tr>\n",
              "    <tr>\n",
              "      <th>31960</th>\n",
              "      <td>31961</td>\n",
              "      <td>1</td>\n",
              "      <td>@user #sikh #temple vandalised in in #calgary,...</td>\n",
              "    </tr>\n",
              "    <tr>\n",
              "      <th>31961</th>\n",
              "      <td>31962</td>\n",
              "      <td>0</td>\n",
              "      <td>thank you @user for you follow</td>\n",
              "    </tr>\n",
              "  </tbody>\n",
              "</table>\n",
              "<p>31962 rows × 3 columns</p>\n",
              "</div>"
            ],
            "text/plain": [
              "          id  label                                              tweet\n",
              "0          1      0   @user when a father is dysfunctional and is s...\n",
              "1          2      0  @user @user thanks for #lyft credit i can't us...\n",
              "2          3      0                                bihday your majesty\n",
              "3          4      0  #model   i love u take with u all the time in ...\n",
              "4          5      0             factsguide: society now    #motivation\n",
              "...      ...    ...                                                ...\n",
              "31957  31958      0  ate @user isz that youuu?Ã°ÂÂÂÃ°ÂÂÂÃ°ÂÂ...\n",
              "31958  31959      0    to see nina turner on the airwaves trying to...\n",
              "31959  31960      0  listening to sad songs on a monday morning otw...\n",
              "31960  31961      1  @user #sikh #temple vandalised in in #calgary,...\n",
              "31961  31962      0                   thank you @user for you follow  \n",
              "\n",
              "[31962 rows x 3 columns]"
            ]
          },
          "metadata": {
            "tags": []
          },
          "execution_count": 166
        }
      ]
    },
    {
      "cell_type": "code",
      "metadata": {
        "id": "b9VfnAD_JMcs",
        "colab_type": "code",
        "colab": {
          "base_uri": "https://localhost:8080/",
          "height": 70
        },
        "outputId": "4e973bf2-021f-48fd-dcb0-c4f437444267"
      },
      "source": [
        "#Finding the count of values in label column\n",
        "info.label.value_counts()"
      ],
      "execution_count": null,
      "outputs": [
        {
          "output_type": "execute_result",
          "data": {
            "text/plain": [
              "0    29720\n",
              "1     2242\n",
              "Name: label, dtype: int64"
            ]
          },
          "metadata": {
            "tags": []
          },
          "execution_count": 167
        }
      ]
    },
    {
      "cell_type": "code",
      "metadata": {
        "id": "EK6hexETLrvd",
        "colab_type": "code",
        "colab": {
          "base_uri": "https://localhost:8080/",
          "height": 296
        },
        "outputId": "e952a85a-53b2-4ea0-ace5-2e2aafa56d3b"
      },
      "source": [
        "#countplot for label column\n",
        "sns.countplot(info.label)"
      ],
      "execution_count": null,
      "outputs": [
        {
          "output_type": "execute_result",
          "data": {
            "text/plain": [
              "<matplotlib.axes._subplots.AxesSubplot at 0x7fba825b05f8>"
            ]
          },
          "metadata": {
            "tags": []
          },
          "execution_count": 168
        },
        {
          "output_type": "display_data",
          "data": {
            "image/png": "[encoded data removed]",
            "text/plain": [
              "<Figure size 432x288 with 1 Axes>"
            ]
          },
          "metadata": {
            "tags": [],
            "needs_background": "light"
          }
        }
      ]
    },
    {
      "cell_type": "code",
      "metadata": {
        "id": "hLBflDK7L0gk",
        "colab_type": "code",
        "colab": {
          "base_uri": "https://localhost:8080/",
          "height": 406
        },
        "outputId": "b9b967ac-0c33-487f-992b-685e67af276a"
      },
      "source": [
        "#Dropping the rows that have Nan values\n",
        "info.dropna()"
      ],
      "execution_count": null,
      "outputs": [
        {
          "output_type": "execute_result",
          "data": {
            "text/html": [
              "<div>\n",
              "<style scoped>\n",
              "    .dataframe tbody tr th:only-of-type {\n",
              "        vertical-align: middle;\n",
              "    }\n",
              "\n",
              "    .dataframe tbody tr th {\n",
              "        vertical-align: top;\n",
              "    }\n",
              "\n",
              "    .dataframe thead th {\n",
              "        text-align: right;\n",
              "    }\n",
              "</style>\n",
              "<table border=\"1\" class=\"dataframe\">\n",
              "  <thead>\n",
              "    <tr style=\"text-align: right;\">\n",
              "      <th></th>\n",
              "      <th>id</th>\n",
              "      <th>label</th>\n",
              "      <th>tweet</th>\n",
              "    </tr>\n",
              "  </thead>\n",
              "  <tbody>\n",
              "    <tr>\n",
              "      <th>0</th>\n",
              "      <td>1</td>\n",
              "      <td>0</td>\n",
              "      <td>@user when a father is dysfunctional and is s...</td>\n",
              "    </tr>\n",
              "    <tr>\n",
              "      <th>1</th>\n",
              "      <td>2</td>\n",
              "      <td>0</td>\n",
              "      <td>@user @user thanks for #lyft credit i can't us...</td>\n",
              "    </tr>\n",
              "    <tr>\n",
              "      <th>2</th>\n",
              "      <td>3</td>\n",
              "      <td>0</td>\n",
              "      <td>bihday your majesty</td>\n",
              "    </tr>\n",
              "    <tr>\n",
              "      <th>3</th>\n",
              "      <td>4</td>\n",
              "      <td>0</td>\n",
              "      <td>#model   i love u take with u all the time in ...</td>\n",
              "    </tr>\n",
              "    <tr>\n",
              "      <th>4</th>\n",
              "      <td>5</td>\n",
              "      <td>0</td>\n",
              "      <td>factsguide: society now    #motivation</td>\n",
              "    </tr>\n",
              "    <tr>\n",
              "      <th>...</th>\n",
              "      <td>...</td>\n",
              "      <td>...</td>\n",
              "      <td>...</td>\n",
              "    </tr>\n",
              "    <tr>\n",
              "      <th>31957</th>\n",
              "      <td>31958</td>\n",
              "      <td>0</td>\n",
              "      <td>ate @user isz that youuu?Ã°ÂÂÂÃ°ÂÂÂÃ°ÂÂ...</td>\n",
              "    </tr>\n",
              "    <tr>\n",
              "      <th>31958</th>\n",
              "      <td>31959</td>\n",
              "      <td>0</td>\n",
              "      <td>to see nina turner on the airwaves trying to...</td>\n",
              "    </tr>\n",
              "    <tr>\n",
              "      <th>31959</th>\n",
              "      <td>31960</td>\n",
              "      <td>0</td>\n",
              "      <td>listening to sad songs on a monday morning otw...</td>\n",
              "    </tr>\n",
              "    <tr>\n",
              "      <th>31960</th>\n",
              "      <td>31961</td>\n",
              "      <td>1</td>\n",
              "      <td>@user #sikh #temple vandalised in in #calgary,...</td>\n",
              "    </tr>\n",
              "    <tr>\n",
              "      <th>31961</th>\n",
              "      <td>31962</td>\n",
              "      <td>0</td>\n",
              "      <td>thank you @user for you follow</td>\n",
              "    </tr>\n",
              "  </tbody>\n",
              "</table>\n",
              "<p>31962 rows × 3 columns</p>\n",
              "</div>"
            ],
            "text/plain": [
              "          id  label                                              tweet\n",
              "0          1      0   @user when a father is dysfunctional and is s...\n",
              "1          2      0  @user @user thanks for #lyft credit i can't us...\n",
              "2          3      0                                bihday your majesty\n",
              "3          4      0  #model   i love u take with u all the time in ...\n",
              "4          5      0             factsguide: society now    #motivation\n",
              "...      ...    ...                                                ...\n",
              "31957  31958      0  ate @user isz that youuu?Ã°ÂÂÂÃ°ÂÂÂÃ°ÂÂ...\n",
              "31958  31959      0    to see nina turner on the airwaves trying to...\n",
              "31959  31960      0  listening to sad songs on a monday morning otw...\n",
              "31960  31961      1  @user #sikh #temple vandalised in in #calgary,...\n",
              "31961  31962      0                   thank you @user for you follow  \n",
              "\n",
              "[31962 rows x 3 columns]"
            ]
          },
          "metadata": {
            "tags": []
          },
          "execution_count": 169
        }
      ]
    },
    {
      "cell_type": "code",
      "metadata": {
        "id": "ix2ZLzgDMlVy",
        "colab_type": "code",
        "colab": {
          "base_uri": "https://localhost:8080/",
          "height": 34
        },
        "outputId": "8a9304d6-b4ae-4653-b5d0-d9c8f319be39"
      },
      "source": [
        "#Finding the shape of csv file\n",
        "info.shape"
      ],
      "execution_count": null,
      "outputs": [
        {
          "output_type": "execute_result",
          "data": {
            "text/plain": [
              "(31962, 3)"
            ]
          },
          "metadata": {
            "tags": []
          },
          "execution_count": 170
        }
      ]
    },
    {
      "cell_type": "markdown",
      "metadata": {
        "id": "8Ma9kBCkNgRe",
        "colab_type": "text"
      },
      "source": [
        "###Data Selection:"
      ]
    },
    {
      "cell_type": "code",
      "metadata": {
        "id": "JqO19GM1NLqW",
        "colab_type": "code",
        "colab": {}
      },
      "source": [
        "#Dropping the unnecessary columns\n",
        "info.drop(['id'],axis = 1,inplace = True)"
      ],
      "execution_count": null,
      "outputs": []
    },
    {
      "cell_type": "code",
      "metadata": {
        "id": "GP_ZWIWqNqEu",
        "colab_type": "code",
        "colab": {
          "base_uri": "https://localhost:8080/",
          "height": 406
        },
        "outputId": "165d4f98-ef1d-4959-bb4f-cf9249d5f25e"
      },
      "source": [
        "#Dataset after dropping unnecessary column\n",
        "info"
      ],
      "execution_count": null,
      "outputs": [
        {
          "output_type": "execute_result",
          "data": {
            "text/html": [
              "<div>\n",
              "<style scoped>\n",
              "    .dataframe tbody tr th:only-of-type {\n",
              "        vertical-align: middle;\n",
              "    }\n",
              "\n",
              "    .dataframe tbody tr th {\n",
              "        vertical-align: top;\n",
              "    }\n",
              "\n",
              "    .dataframe thead th {\n",
              "        text-align: right;\n",
              "    }\n",
              "</style>\n",
              "<table border=\"1\" class=\"dataframe\">\n",
              "  <thead>\n",
              "    <tr style=\"text-align: right;\">\n",
              "      <th></th>\n",
              "      <th>label</th>\n",
              "      <th>tweet</th>\n",
              "    </tr>\n",
              "  </thead>\n",
              "  <tbody>\n",
              "    <tr>\n",
              "      <th>0</th>\n",
              "      <td>0</td>\n",
              "      <td>@user when a father is dysfunctional and is s...</td>\n",
              "    </tr>\n",
              "    <tr>\n",
              "      <th>1</th>\n",
              "      <td>0</td>\n",
              "      <td>@user @user thanks for #lyft credit i can't us...</td>\n",
              "    </tr>\n",
              "    <tr>\n",
              "      <th>2</th>\n",
              "      <td>0</td>\n",
              "      <td>bihday your majesty</td>\n",
              "    </tr>\n",
              "    <tr>\n",
              "      <th>3</th>\n",
              "      <td>0</td>\n",
              "      <td>#model   i love u take with u all the time in ...</td>\n",
              "    </tr>\n",
              "    <tr>\n",
              "      <th>4</th>\n",
              "      <td>0</td>\n",
              "      <td>factsguide: society now    #motivation</td>\n",
              "    </tr>\n",
              "    <tr>\n",
              "      <th>...</th>\n",
              "      <td>...</td>\n",
              "      <td>...</td>\n",
              "    </tr>\n",
              "    <tr>\n",
              "      <th>31957</th>\n",
              "      <td>0</td>\n",
              "      <td>ate @user isz that youuu?Ã°ÂÂÂÃ°ÂÂÂÃ°ÂÂ...</td>\n",
              "    </tr>\n",
              "    <tr>\n",
              "      <th>31958</th>\n",
              "      <td>0</td>\n",
              "      <td>to see nina turner on the airwaves trying to...</td>\n",
              "    </tr>\n",
              "    <tr>\n",
              "      <th>31959</th>\n",
              "      <td>0</td>\n",
              "      <td>listening to sad songs on a monday morning otw...</td>\n",
              "    </tr>\n",
              "    <tr>\n",
              "      <th>31960</th>\n",
              "      <td>1</td>\n",
              "      <td>@user #sikh #temple vandalised in in #calgary,...</td>\n",
              "    </tr>\n",
              "    <tr>\n",
              "      <th>31961</th>\n",
              "      <td>0</td>\n",
              "      <td>thank you @user for you follow</td>\n",
              "    </tr>\n",
              "  </tbody>\n",
              "</table>\n",
              "<p>31962 rows × 2 columns</p>\n",
              "</div>"
            ],
            "text/plain": [
              "       label                                              tweet\n",
              "0          0   @user when a father is dysfunctional and is s...\n",
              "1          0  @user @user thanks for #lyft credit i can't us...\n",
              "2          0                                bihday your majesty\n",
              "3          0  #model   i love u take with u all the time in ...\n",
              "4          0             factsguide: society now    #motivation\n",
              "...      ...                                                ...\n",
              "31957      0  ate @user isz that youuu?Ã°ÂÂÂÃ°ÂÂÂÃ°ÂÂ...\n",
              "31958      0    to see nina turner on the airwaves trying to...\n",
              "31959      0  listening to sad songs on a monday morning otw...\n",
              "31960      1  @user #sikh #temple vandalised in in #calgary,...\n",
              "31961      0                   thank you @user for you follow  \n",
              "\n",
              "[31962 rows x 2 columns]"
            ]
          },
          "metadata": {
            "tags": []
          },
          "execution_count": 172
        }
      ]
    },
    {
      "cell_type": "code",
      "metadata": {
        "id": "NFoZoSKINyal",
        "colab_type": "code",
        "colab": {}
      },
      "source": [
        "#Assigning the tweet column to X_train\n",
        "X_train = info.tweet"
      ],
      "execution_count": null,
      "outputs": []
    },
    {
      "cell_type": "code",
      "metadata": {
        "id": "4P0vKhZROI6G",
        "colab_type": "code",
        "colab": {}
      },
      "source": [
        "#Assigning the label column to y_train\n",
        "y_train = info.label"
      ],
      "execution_count": null,
      "outputs": []
    },
    {
      "cell_type": "code",
      "metadata": {
        "id": "Mak9pk_2OQV2",
        "colab_type": "code",
        "colab": {
          "base_uri": "https://localhost:8080/",
          "height": 52
        },
        "outputId": "27376bb4-36f5-4d36-d239-195080e5bcd0"
      },
      "source": [
        "#Finding the shape of X_train and y_train\n",
        "print(X_train.shape)\n",
        "print(y_train.shape)"
      ],
      "execution_count": null,
      "outputs": [
        {
          "output_type": "stream",
          "text": [
            "(31962,)\n",
            "(31962,)\n"
          ],
          "name": "stdout"
        }
      ]
    },
    {
      "cell_type": "markdown",
      "metadata": {
        "id": "xuVPVMpwOmZw",
        "colab_type": "text"
      },
      "source": [
        "###Cleaning the train data with nltk:"
      ]
    },
    {
      "cell_type": "code",
      "metadata": {
        "id": "KbysPWrTOgxh",
        "colab_type": "code",
        "colab": {
          "base_uri": "https://localhost:8080/",
          "height": 233
        },
        "outputId": "a6c8a0f1-e8b5-4b6f-ef6e-9ca3a8bdd01a"
      },
      "source": [
        "#Removing Stopwords which are not required as they are frequently repeated\n",
        "import nltk\n",
        "nltk.download('stopwords')\n",
        "from nltk.corpus import stopwords\n",
        "stop=stopwords.words(\"english\")\n",
        "stop.extend([\"i'm\",\"I'm\"])\n",
        "\n",
        "info.tweet=info.tweet.apply(lambda x: ' '.join([word for word in x.split() if word not in (stop)]))\n",
        "info.head()"
      ],
      "execution_count": null,
      "outputs": [
        {
          "output_type": "stream",
          "text": [
            "[nltk_data] Downloading package stopwords to /root/nltk_data...\n",
            "[nltk_data]   Package stopwords is already up-to-date!\n"
          ],
          "name": "stdout"
        },
        {
          "output_type": "execute_result",
          "data": {
            "text/html": [
              "<div>\n",
              "<style scoped>\n",
              "    .dataframe tbody tr th:only-of-type {\n",
              "        vertical-align: middle;\n",
              "    }\n",
              "\n",
              "    .dataframe tbody tr th {\n",
              "        vertical-align: top;\n",
              "    }\n",
              "\n",
              "    .dataframe thead th {\n",
              "        text-align: right;\n",
              "    }\n",
              "</style>\n",
              "<table border=\"1\" class=\"dataframe\">\n",
              "  <thead>\n",
              "    <tr style=\"text-align: right;\">\n",
              "      <th></th>\n",
              "      <th>label</th>\n",
              "      <th>tweet</th>\n",
              "    </tr>\n",
              "  </thead>\n",
              "  <tbody>\n",
              "    <tr>\n",
              "      <th>0</th>\n",
              "      <td>0</td>\n",
              "      <td>@user father dysfunctional selfish drags kids ...</td>\n",
              "    </tr>\n",
              "    <tr>\n",
              "      <th>1</th>\n",
              "      <td>0</td>\n",
              "      <td>@user @user thanks #lyft credit can't use caus...</td>\n",
              "    </tr>\n",
              "    <tr>\n",
              "      <th>2</th>\n",
              "      <td>0</td>\n",
              "      <td>bihday majesty</td>\n",
              "    </tr>\n",
              "    <tr>\n",
              "      <th>3</th>\n",
              "      <td>0</td>\n",
              "      <td>#model love u take u time urÃ°ÂÂÂ±!!! Ã°ÂÂ...</td>\n",
              "    </tr>\n",
              "    <tr>\n",
              "      <th>4</th>\n",
              "      <td>0</td>\n",
              "      <td>factsguide: society #motivation</td>\n",
              "    </tr>\n",
              "  </tbody>\n",
              "</table>\n",
              "</div>"
            ],
            "text/plain": [
              "   label                                              tweet\n",
              "0      0  @user father dysfunctional selfish drags kids ...\n",
              "1      0  @user @user thanks #lyft credit can't use caus...\n",
              "2      0                                     bihday majesty\n",
              "3      0  #model love u take u time urÃ°ÂÂÂ±!!! Ã°ÂÂ...\n",
              "4      0                    factsguide: society #motivation"
            ]
          },
          "metadata": {
            "tags": []
          },
          "execution_count": 176
        }
      ]
    },
    {
      "cell_type": "code",
      "metadata": {
        "id": "aPuUD68gO_H4",
        "colab_type": "code",
        "colab": {}
      },
      "source": [
        "#Cleaning the data\n",
        "def clean(x):\n",
        "    x=' '.join(re.sub(\"(@[A-Za-z0-9]+)|([^A-Za-z0-9']+)|(\\w+:\\/\\/\\S+)\",\" \",x).split())\n",
        "    return x"
      ],
      "execution_count": null,
      "outputs": []
    },
    {
      "cell_type": "code",
      "metadata": {
        "id": "C2zQFpyXPh01",
        "colab_type": "code",
        "colab": {
          "base_uri": "https://localhost:8080/",
          "height": 406
        },
        "outputId": "c2fe6f70-151a-4732-bce9-855f66c4deed"
      },
      "source": [
        "# Removing Hyperlinks, userIDS\n",
        "import re\n",
        "info.tweet = info.tweet.apply(clean)\n",
        "info"
      ],
      "execution_count": null,
      "outputs": [
        {
          "output_type": "execute_result",
          "data": {
            "text/html": [
              "<div>\n",
              "<style scoped>\n",
              "    .dataframe tbody tr th:only-of-type {\n",
              "        vertical-align: middle;\n",
              "    }\n",
              "\n",
              "    .dataframe tbody tr th {\n",
              "        vertical-align: top;\n",
              "    }\n",
              "\n",
              "    .dataframe thead th {\n",
              "        text-align: right;\n",
              "    }\n",
              "</style>\n",
              "<table border=\"1\" class=\"dataframe\">\n",
              "  <thead>\n",
              "    <tr style=\"text-align: right;\">\n",
              "      <th></th>\n",
              "      <th>label</th>\n",
              "      <th>tweet</th>\n",
              "    </tr>\n",
              "  </thead>\n",
              "  <tbody>\n",
              "    <tr>\n",
              "      <th>0</th>\n",
              "      <td>0</td>\n",
              "      <td>father dysfunctional selfish drags kids dysfun...</td>\n",
              "    </tr>\n",
              "    <tr>\n",
              "      <th>1</th>\n",
              "      <td>0</td>\n",
              "      <td>user thanks lyft credit can't use cause offer ...</td>\n",
              "    </tr>\n",
              "    <tr>\n",
              "      <th>2</th>\n",
              "      <td>0</td>\n",
              "      <td>bihday majesty</td>\n",
              "    </tr>\n",
              "    <tr>\n",
              "      <th>3</th>\n",
              "      <td>0</td>\n",
              "      <td>model love u take u time ur</td>\n",
              "    </tr>\n",
              "    <tr>\n",
              "      <th>4</th>\n",
              "      <td>0</td>\n",
              "      <td>factsguide society motivation</td>\n",
              "    </tr>\n",
              "    <tr>\n",
              "      <th>...</th>\n",
              "      <td>...</td>\n",
              "      <td>...</td>\n",
              "    </tr>\n",
              "    <tr>\n",
              "      <th>31957</th>\n",
              "      <td>0</td>\n",
              "      <td>ate user isz youuu</td>\n",
              "    </tr>\n",
              "    <tr>\n",
              "      <th>31958</th>\n",
              "      <td>0</td>\n",
              "      <td>see nina turner airwaves trying wrap mantle ge...</td>\n",
              "    </tr>\n",
              "    <tr>\n",
              "      <th>31959</th>\n",
              "      <td>0</td>\n",
              "      <td>listening sad songs monday morning otw work sad</td>\n",
              "    </tr>\n",
              "    <tr>\n",
              "      <th>31960</th>\n",
              "      <td>1</td>\n",
              "      <td>sikh temple vandalised calgary wso condemns act</td>\n",
              "    </tr>\n",
              "    <tr>\n",
              "      <th>31961</th>\n",
              "      <td>0</td>\n",
              "      <td>thank user follow</td>\n",
              "    </tr>\n",
              "  </tbody>\n",
              "</table>\n",
              "<p>31962 rows × 2 columns</p>\n",
              "</div>"
            ],
            "text/plain": [
              "       label                                              tweet\n",
              "0          0  father dysfunctional selfish drags kids dysfun...\n",
              "1          0  user thanks lyft credit can't use cause offer ...\n",
              "2          0                                     bihday majesty\n",
              "3          0                        model love u take u time ur\n",
              "4          0                      factsguide society motivation\n",
              "...      ...                                                ...\n",
              "31957      0                                 ate user isz youuu\n",
              "31958      0  see nina turner airwaves trying wrap mantle ge...\n",
              "31959      0    listening sad songs monday morning otw work sad\n",
              "31960      1    sikh temple vandalised calgary wso condemns act\n",
              "31961      0                                  thank user follow\n",
              "\n",
              "[31962 rows x 2 columns]"
            ]
          },
          "metadata": {
            "tags": []
          },
          "execution_count": 178
        }
      ]
    },
    {
      "cell_type": "code",
      "metadata": {
        "id": "kreyqXVmQqpC",
        "colab_type": "code",
        "colab": {
          "base_uri": "https://localhost:8080/",
          "height": 233
        },
        "outputId": "db476490-89d9-418c-ee0b-cae2a26dfe4f"
      },
      "source": [
        "# Applying Lemmatization\n",
        "from nltk.stem.wordnet import WordNetLemmatizer\n",
        "nltk.download('wordnet')\n",
        "wnl = WordNetLemmatizer()\n",
        "info.tweet=info.tweet.apply(lambda x:' '.join([wnl.lemmatize(word,'v') for word in x.split()])) # v stands for verb\n",
        "info.head()"
      ],
      "execution_count": null,
      "outputs": [
        {
          "output_type": "stream",
          "text": [
            "[nltk_data] Downloading package wordnet to /root/nltk_data...\n",
            "[nltk_data]   Package wordnet is already up-to-date!\n"
          ],
          "name": "stdout"
        },
        {
          "output_type": "execute_result",
          "data": {
            "text/html": [
              "<div>\n",
              "<style scoped>\n",
              "    .dataframe tbody tr th:only-of-type {\n",
              "        vertical-align: middle;\n",
              "    }\n",
              "\n",
              "    .dataframe tbody tr th {\n",
              "        vertical-align: top;\n",
              "    }\n",
              "\n",
              "    .dataframe thead th {\n",
              "        text-align: right;\n",
              "    }\n",
              "</style>\n",
              "<table border=\"1\" class=\"dataframe\">\n",
              "  <thead>\n",
              "    <tr style=\"text-align: right;\">\n",
              "      <th></th>\n",
              "      <th>label</th>\n",
              "      <th>tweet</th>\n",
              "    </tr>\n",
              "  </thead>\n",
              "  <tbody>\n",
              "    <tr>\n",
              "      <th>0</th>\n",
              "      <td>0</td>\n",
              "      <td>father dysfunctional selfish drag kid dysfunct...</td>\n",
              "    </tr>\n",
              "    <tr>\n",
              "      <th>1</th>\n",
              "      <td>0</td>\n",
              "      <td>user thank lyft credit can't use cause offer w...</td>\n",
              "    </tr>\n",
              "    <tr>\n",
              "      <th>2</th>\n",
              "      <td>0</td>\n",
              "      <td>bihday majesty</td>\n",
              "    </tr>\n",
              "    <tr>\n",
              "      <th>3</th>\n",
              "      <td>0</td>\n",
              "      <td>model love u take u time ur</td>\n",
              "    </tr>\n",
              "    <tr>\n",
              "      <th>4</th>\n",
              "      <td>0</td>\n",
              "      <td>factsguide society motivation</td>\n",
              "    </tr>\n",
              "  </tbody>\n",
              "</table>\n",
              "</div>"
            ],
            "text/plain": [
              "   label                                              tweet\n",
              "0      0  father dysfunctional selfish drag kid dysfunct...\n",
              "1      0  user thank lyft credit can't use cause offer w...\n",
              "2      0                                     bihday majesty\n",
              "3      0                        model love u take u time ur\n",
              "4      0                      factsguide society motivation"
            ]
          },
          "metadata": {
            "tags": []
          },
          "execution_count": 179
        }
      ]
    },
    {
      "cell_type": "code",
      "metadata": {
        "id": "JRoSumE7RU8m",
        "colab_type": "code",
        "colab": {
          "base_uri": "https://localhost:8080/",
          "height": 406
        },
        "outputId": "65dbc450-1a72-4425-d4bc-ff225e5dae95"
      },
      "source": [
        "#Converting all letters to single case\n",
        "info.tweet=info.tweet.apply(lambda x:' '.join([word.lower() for word in x.split()]))\n",
        "info"
      ],
      "execution_count": null,
      "outputs": [
        {
          "output_type": "execute_result",
          "data": {
            "text/html": [
              "<div>\n",
              "<style scoped>\n",
              "    .dataframe tbody tr th:only-of-type {\n",
              "        vertical-align: middle;\n",
              "    }\n",
              "\n",
              "    .dataframe tbody tr th {\n",
              "        vertical-align: top;\n",
              "    }\n",
              "\n",
              "    .dataframe thead th {\n",
              "        text-align: right;\n",
              "    }\n",
              "</style>\n",
              "<table border=\"1\" class=\"dataframe\">\n",
              "  <thead>\n",
              "    <tr style=\"text-align: right;\">\n",
              "      <th></th>\n",
              "      <th>label</th>\n",
              "      <th>tweet</th>\n",
              "    </tr>\n",
              "  </thead>\n",
              "  <tbody>\n",
              "    <tr>\n",
              "      <th>0</th>\n",
              "      <td>0</td>\n",
              "      <td>father dysfunctional selfish drag kid dysfunct...</td>\n",
              "    </tr>\n",
              "    <tr>\n",
              "      <th>1</th>\n",
              "      <td>0</td>\n",
              "      <td>user thank lyft credit can't use cause offer w...</td>\n",
              "    </tr>\n",
              "    <tr>\n",
              "      <th>2</th>\n",
              "      <td>0</td>\n",
              "      <td>bihday majesty</td>\n",
              "    </tr>\n",
              "    <tr>\n",
              "      <th>3</th>\n",
              "      <td>0</td>\n",
              "      <td>model love u take u time ur</td>\n",
              "    </tr>\n",
              "    <tr>\n",
              "      <th>4</th>\n",
              "      <td>0</td>\n",
              "      <td>factsguide society motivation</td>\n",
              "    </tr>\n",
              "    <tr>\n",
              "      <th>...</th>\n",
              "      <td>...</td>\n",
              "      <td>...</td>\n",
              "    </tr>\n",
              "    <tr>\n",
              "      <th>31957</th>\n",
              "      <td>0</td>\n",
              "      <td>eat user isz youuu</td>\n",
              "    </tr>\n",
              "    <tr>\n",
              "      <th>31958</th>\n",
              "      <td>0</td>\n",
              "      <td>see nina turner airwaves try wrap mantle genui...</td>\n",
              "    </tr>\n",
              "    <tr>\n",
              "      <th>31959</th>\n",
              "      <td>0</td>\n",
              "      <td>listen sad songs monday morning otw work sad</td>\n",
              "    </tr>\n",
              "    <tr>\n",
              "      <th>31960</th>\n",
              "      <td>1</td>\n",
              "      <td>sikh temple vandalise calgary wso condemn act</td>\n",
              "    </tr>\n",
              "    <tr>\n",
              "      <th>31961</th>\n",
              "      <td>0</td>\n",
              "      <td>thank user follow</td>\n",
              "    </tr>\n",
              "  </tbody>\n",
              "</table>\n",
              "<p>31962 rows × 2 columns</p>\n",
              "</div>"
            ],
            "text/plain": [
              "       label                                              tweet\n",
              "0          0  father dysfunctional selfish drag kid dysfunct...\n",
              "1          0  user thank lyft credit can't use cause offer w...\n",
              "2          0                                     bihday majesty\n",
              "3          0                        model love u take u time ur\n",
              "4          0                      factsguide society motivation\n",
              "...      ...                                                ...\n",
              "31957      0                                 eat user isz youuu\n",
              "31958      0  see nina turner airwaves try wrap mantle genui...\n",
              "31959      0       listen sad songs monday morning otw work sad\n",
              "31960      1      sikh temple vandalise calgary wso condemn act\n",
              "31961      0                                  thank user follow\n",
              "\n",
              "[31962 rows x 2 columns]"
            ]
          },
          "metadata": {
            "tags": []
          },
          "execution_count": 180
        }
      ]
    },
    {
      "cell_type": "markdown",
      "metadata": {
        "id": "Z31sGwnmSvZf",
        "colab_type": "text"
      },
      "source": [
        "###Preprocessing,Data selecting  and Cleaning the testing data:"
      ]
    },
    {
      "cell_type": "code",
      "metadata": {
        "id": "MgL8bfX2Rptz",
        "colab_type": "code",
        "colab": {
          "base_uri": "https://localhost:8080/",
          "height": 406
        },
        "outputId": "fe173096-2a65-4f98-f081-c55387c3f61f"
      },
      "source": [
        "testdata = pd.read_csv(\"/content/drive/My Drive/2020/test.csv\",encoding = 'latin - 1')#Reading the test data \n",
        "testdata"
      ],
      "execution_count": null,
      "outputs": [
        {
          "output_type": "execute_result",
          "data": {
            "text/html": [
              "<div>\n",
              "<style scoped>\n",
              "    .dataframe tbody tr th:only-of-type {\n",
              "        vertical-align: middle;\n",
              "    }\n",
              "\n",
              "    .dataframe tbody tr th {\n",
              "        vertical-align: top;\n",
              "    }\n",
              "\n",
              "    .dataframe thead th {\n",
              "        text-align: right;\n",
              "    }\n",
              "</style>\n",
              "<table border=\"1\" class=\"dataframe\">\n",
              "  <thead>\n",
              "    <tr style=\"text-align: right;\">\n",
              "      <th></th>\n",
              "      <th>id</th>\n",
              "      <th>tweet</th>\n",
              "    </tr>\n",
              "  </thead>\n",
              "  <tbody>\n",
              "    <tr>\n",
              "      <th>0</th>\n",
              "      <td>31963</td>\n",
              "      <td>#studiolife #aislife #requires #passion #dedic...</td>\n",
              "    </tr>\n",
              "    <tr>\n",
              "      <th>1</th>\n",
              "      <td>31964</td>\n",
              "      <td>@user #white #supremacists want everyone to s...</td>\n",
              "    </tr>\n",
              "    <tr>\n",
              "      <th>2</th>\n",
              "      <td>31965</td>\n",
              "      <td>safe ways to heal your #acne!!    #altwaystohe...</td>\n",
              "    </tr>\n",
              "    <tr>\n",
              "      <th>3</th>\n",
              "      <td>31966</td>\n",
              "      <td>is the hp and the cursed child book up for res...</td>\n",
              "    </tr>\n",
              "    <tr>\n",
              "      <th>4</th>\n",
              "      <td>31967</td>\n",
              "      <td>3rd #bihday to my amazing, hilarious #nephew...</td>\n",
              "    </tr>\n",
              "    <tr>\n",
              "      <th>...</th>\n",
              "      <td>...</td>\n",
              "      <td>...</td>\n",
              "    </tr>\n",
              "    <tr>\n",
              "      <th>17192</th>\n",
              "      <td>49155</td>\n",
              "      <td>thought factory: left-right polarisation! #tru...</td>\n",
              "    </tr>\n",
              "    <tr>\n",
              "      <th>17193</th>\n",
              "      <td>49156</td>\n",
              "      <td>feeling like a mermaid Ã°ÂÂÂ #hairflip #nev...</td>\n",
              "    </tr>\n",
              "    <tr>\n",
              "      <th>17194</th>\n",
              "      <td>49157</td>\n",
              "      <td>#hillary #campaigned today in #ohio((omg)) &amp;am...</td>\n",
              "    </tr>\n",
              "    <tr>\n",
              "      <th>17195</th>\n",
              "      <td>49158</td>\n",
              "      <td>happy, at work conference: right mindset leads...</td>\n",
              "    </tr>\n",
              "    <tr>\n",
              "      <th>17196</th>\n",
              "      <td>49159</td>\n",
              "      <td>my   song \"so glad\" free download!  #shoegaze ...</td>\n",
              "    </tr>\n",
              "  </tbody>\n",
              "</table>\n",
              "<p>17197 rows × 2 columns</p>\n",
              "</div>"
            ],
            "text/plain": [
              "          id                                              tweet\n",
              "0      31963  #studiolife #aislife #requires #passion #dedic...\n",
              "1      31964   @user #white #supremacists want everyone to s...\n",
              "2      31965  safe ways to heal your #acne!!    #altwaystohe...\n",
              "3      31966  is the hp and the cursed child book up for res...\n",
              "4      31967    3rd #bihday to my amazing, hilarious #nephew...\n",
              "...      ...                                                ...\n",
              "17192  49155  thought factory: left-right polarisation! #tru...\n",
              "17193  49156  feeling like a mermaid Ã°ÂÂÂ #hairflip #nev...\n",
              "17194  49157  #hillary #campaigned today in #ohio((omg)) &am...\n",
              "17195  49158  happy, at work conference: right mindset leads...\n",
              "17196  49159  my   song \"so glad\" free download!  #shoegaze ...\n",
              "\n",
              "[17197 rows x 2 columns]"
            ]
          },
          "metadata": {
            "tags": []
          },
          "execution_count": 181
        }
      ]
    },
    {
      "cell_type": "code",
      "metadata": {
        "id": "GbdAYAwzTwhq",
        "colab_type": "code",
        "colab": {
          "base_uri": "https://localhost:8080/",
          "height": 406
        },
        "outputId": "f123959b-9c86-436e-b420-a36a979363ea"
      },
      "source": [
        "testdata.drop(['id'],axis = 1 ,inplace = True)#Dropping the unnecessary columns \n",
        "testdata"
      ],
      "execution_count": null,
      "outputs": [
        {
          "output_type": "execute_result",
          "data": {
            "text/html": [
              "<div>\n",
              "<style scoped>\n",
              "    .dataframe tbody tr th:only-of-type {\n",
              "        vertical-align: middle;\n",
              "    }\n",
              "\n",
              "    .dataframe tbody tr th {\n",
              "        vertical-align: top;\n",
              "    }\n",
              "\n",
              "    .dataframe thead th {\n",
              "        text-align: right;\n",
              "    }\n",
              "</style>\n",
              "<table border=\"1\" class=\"dataframe\">\n",
              "  <thead>\n",
              "    <tr style=\"text-align: right;\">\n",
              "      <th></th>\n",
              "      <th>tweet</th>\n",
              "    </tr>\n",
              "  </thead>\n",
              "  <tbody>\n",
              "    <tr>\n",
              "      <th>0</th>\n",
              "      <td>#studiolife #aislife #requires #passion #dedic...</td>\n",
              "    </tr>\n",
              "    <tr>\n",
              "      <th>1</th>\n",
              "      <td>@user #white #supremacists want everyone to s...</td>\n",
              "    </tr>\n",
              "    <tr>\n",
              "      <th>2</th>\n",
              "      <td>safe ways to heal your #acne!!    #altwaystohe...</td>\n",
              "    </tr>\n",
              "    <tr>\n",
              "      <th>3</th>\n",
              "      <td>is the hp and the cursed child book up for res...</td>\n",
              "    </tr>\n",
              "    <tr>\n",
              "      <th>4</th>\n",
              "      <td>3rd #bihday to my amazing, hilarious #nephew...</td>\n",
              "    </tr>\n",
              "    <tr>\n",
              "      <th>...</th>\n",
              "      <td>...</td>\n",
              "    </tr>\n",
              "    <tr>\n",
              "      <th>17192</th>\n",
              "      <td>thought factory: left-right polarisation! #tru...</td>\n",
              "    </tr>\n",
              "    <tr>\n",
              "      <th>17193</th>\n",
              "      <td>feeling like a mermaid Ã°ÂÂÂ #hairflip #nev...</td>\n",
              "    </tr>\n",
              "    <tr>\n",
              "      <th>17194</th>\n",
              "      <td>#hillary #campaigned today in #ohio((omg)) &amp;am...</td>\n",
              "    </tr>\n",
              "    <tr>\n",
              "      <th>17195</th>\n",
              "      <td>happy, at work conference: right mindset leads...</td>\n",
              "    </tr>\n",
              "    <tr>\n",
              "      <th>17196</th>\n",
              "      <td>my   song \"so glad\" free download!  #shoegaze ...</td>\n",
              "    </tr>\n",
              "  </tbody>\n",
              "</table>\n",
              "<p>17197 rows × 1 columns</p>\n",
              "</div>"
            ],
            "text/plain": [
              "                                                   tweet\n",
              "0      #studiolife #aislife #requires #passion #dedic...\n",
              "1       @user #white #supremacists want everyone to s...\n",
              "2      safe ways to heal your #acne!!    #altwaystohe...\n",
              "3      is the hp and the cursed child book up for res...\n",
              "4        3rd #bihday to my amazing, hilarious #nephew...\n",
              "...                                                  ...\n",
              "17192  thought factory: left-right polarisation! #tru...\n",
              "17193  feeling like a mermaid Ã°ÂÂÂ #hairflip #nev...\n",
              "17194  #hillary #campaigned today in #ohio((omg)) &am...\n",
              "17195  happy, at work conference: right mindset leads...\n",
              "17196  my   song \"so glad\" free download!  #shoegaze ...\n",
              "\n",
              "[17197 rows x 1 columns]"
            ]
          },
          "metadata": {
            "tags": []
          },
          "execution_count": 182
        }
      ]
    },
    {
      "cell_type": "code",
      "metadata": {
        "id": "jjOPoVpnT9Tk",
        "colab_type": "code",
        "colab": {
          "base_uri": "https://localhost:8080/",
          "height": 442
        },
        "outputId": "b7d445bc-bb21-4e46-c32c-7abb1be82ae1"
      },
      "source": [
        "#Removing Stopwords which are not required as they are frequently repeated\n",
        "import nltk\n",
        "nltk.download('stopwords')\n",
        "stop=stopwords.words(\"english\")\n",
        "stop.extend([\"i'm\",\"I'm\"])\n",
        "testdata.tweet=testdata.tweet.apply(lambda x: ' '.join([word for word in x.split() if word not in (stop)]))\n",
        "testdata\n"
      ],
      "execution_count": null,
      "outputs": [
        {
          "output_type": "stream",
          "text": [
            "[nltk_data] Downloading package stopwords to /root/nltk_data...\n",
            "[nltk_data]   Package stopwords is already up-to-date!\n"
          ],
          "name": "stdout"
        },
        {
          "output_type": "execute_result",
          "data": {
            "text/html": [
              "<div>\n",
              "<style scoped>\n",
              "    .dataframe tbody tr th:only-of-type {\n",
              "        vertical-align: middle;\n",
              "    }\n",
              "\n",
              "    .dataframe tbody tr th {\n",
              "        vertical-align: top;\n",
              "    }\n",
              "\n",
              "    .dataframe thead th {\n",
              "        text-align: right;\n",
              "    }\n",
              "</style>\n",
              "<table border=\"1\" class=\"dataframe\">\n",
              "  <thead>\n",
              "    <tr style=\"text-align: right;\">\n",
              "      <th></th>\n",
              "      <th>tweet</th>\n",
              "    </tr>\n",
              "  </thead>\n",
              "  <tbody>\n",
              "    <tr>\n",
              "      <th>0</th>\n",
              "      <td>#studiolife #aislife #requires #passion #dedic...</td>\n",
              "    </tr>\n",
              "    <tr>\n",
              "      <th>1</th>\n",
              "      <td>@user #white #supremacists want everyone see n...</td>\n",
              "    </tr>\n",
              "    <tr>\n",
              "      <th>2</th>\n",
              "      <td>safe ways heal #acne!! #altwaystoheal #healthy...</td>\n",
              "    </tr>\n",
              "    <tr>\n",
              "      <th>3</th>\n",
              "      <td>hp cursed child book reservations already? yes...</td>\n",
              "    </tr>\n",
              "    <tr>\n",
              "      <th>4</th>\n",
              "      <td>3rd #bihday amazing, hilarious #nephew eli ahm...</td>\n",
              "    </tr>\n",
              "    <tr>\n",
              "      <th>...</th>\n",
              "      <td>...</td>\n",
              "    </tr>\n",
              "    <tr>\n",
              "      <th>17192</th>\n",
              "      <td>thought factory: left-right polarisation! #tru...</td>\n",
              "    </tr>\n",
              "    <tr>\n",
              "      <th>17193</th>\n",
              "      <td>feeling like mermaid Ã°ÂÂÂ #hairflip #never...</td>\n",
              "    </tr>\n",
              "    <tr>\n",
              "      <th>17194</th>\n",
              "      <td>#hillary #campaigned today #ohio((omg)) &amp;amp; ...</td>\n",
              "    </tr>\n",
              "    <tr>\n",
              "      <th>17195</th>\n",
              "      <td>happy, work conference: right mindset leads cu...</td>\n",
              "    </tr>\n",
              "    <tr>\n",
              "      <th>17196</th>\n",
              "      <td>song \"so glad\" free download! #shoegaze #newmu...</td>\n",
              "    </tr>\n",
              "  </tbody>\n",
              "</table>\n",
              "<p>17197 rows × 1 columns</p>\n",
              "</div>"
            ],
            "text/plain": [
              "                                                   tweet\n",
              "0      #studiolife #aislife #requires #passion #dedic...\n",
              "1      @user #white #supremacists want everyone see n...\n",
              "2      safe ways heal #acne!! #altwaystoheal #healthy...\n",
              "3      hp cursed child book reservations already? yes...\n",
              "4      3rd #bihday amazing, hilarious #nephew eli ahm...\n",
              "...                                                  ...\n",
              "17192  thought factory: left-right polarisation! #tru...\n",
              "17193  feeling like mermaid Ã°ÂÂÂ #hairflip #never...\n",
              "17194  #hillary #campaigned today #ohio((omg)) &amp; ...\n",
              "17195  happy, work conference: right mindset leads cu...\n",
              "17196  song \"so glad\" free download! #shoegaze #newmu...\n",
              "\n",
              "[17197 rows x 1 columns]"
            ]
          },
          "metadata": {
            "tags": []
          },
          "execution_count": 183
        }
      ]
    },
    {
      "cell_type": "code",
      "metadata": {
        "id": "K_MZqYdCVPJ7",
        "colab_type": "code",
        "colab": {}
      },
      "source": [
        "#Cleaning the data\n",
        "def clean(x):\n",
        "    x=' '.join(re.sub(\"(@[A-Za-z0-9]+)|([^A-Za-z0-9']+)|(\\w+:\\/\\/\\S+)\",\" \",x).split())\n",
        "    return x"
      ],
      "execution_count": null,
      "outputs": []
    },
    {
      "cell_type": "code",
      "metadata": {
        "id": "rUJ2KiDtU4Nd",
        "colab_type": "code",
        "colab": {
          "base_uri": "https://localhost:8080/",
          "height": 406
        },
        "outputId": "aa4ceb71-cc20-446b-b9e6-2940f443bf72"
      },
      "source": [
        "# Removing Hyperlinks, userIDS\n",
        "testdata.tweet = testdata.tweet.apply(clean)\n",
        "testdata"
      ],
      "execution_count": null,
      "outputs": [
        {
          "output_type": "execute_result",
          "data": {
            "text/html": [
              "<div>\n",
              "<style scoped>\n",
              "    .dataframe tbody tr th:only-of-type {\n",
              "        vertical-align: middle;\n",
              "    }\n",
              "\n",
              "    .dataframe tbody tr th {\n",
              "        vertical-align: top;\n",
              "    }\n",
              "\n",
              "    .dataframe thead th {\n",
              "        text-align: right;\n",
              "    }\n",
              "</style>\n",
              "<table border=\"1\" class=\"dataframe\">\n",
              "  <thead>\n",
              "    <tr style=\"text-align: right;\">\n",
              "      <th></th>\n",
              "      <th>tweet</th>\n",
              "    </tr>\n",
              "  </thead>\n",
              "  <tbody>\n",
              "    <tr>\n",
              "      <th>0</th>\n",
              "      <td>studiolife aislife requires passion dedication...</td>\n",
              "    </tr>\n",
              "    <tr>\n",
              "      <th>1</th>\n",
              "      <td>white supremacists want everyone see new birds...</td>\n",
              "    </tr>\n",
              "    <tr>\n",
              "      <th>2</th>\n",
              "      <td>safe ways heal acne altwaystoheal healthy healing</td>\n",
              "    </tr>\n",
              "    <tr>\n",
              "      <th>3</th>\n",
              "      <td>hp cursed child book reservations already yes ...</td>\n",
              "    </tr>\n",
              "    <tr>\n",
              "      <th>4</th>\n",
              "      <td>3rd bihday amazing hilarious nephew eli ahmir ...</td>\n",
              "    </tr>\n",
              "    <tr>\n",
              "      <th>...</th>\n",
              "      <td>...</td>\n",
              "    </tr>\n",
              "    <tr>\n",
              "      <th>17192</th>\n",
              "      <td>thought factory left right polarisation trump ...</td>\n",
              "    </tr>\n",
              "    <tr>\n",
              "      <th>17193</th>\n",
              "      <td>feeling like mermaid hairflip neverready forma...</td>\n",
              "    </tr>\n",
              "    <tr>\n",
              "      <th>17194</th>\n",
              "      <td>hillary campaigned today ohio omg amp used wor...</td>\n",
              "    </tr>\n",
              "    <tr>\n",
              "      <th>17195</th>\n",
              "      <td>happy work conference right mindset leads cult...</td>\n",
              "    </tr>\n",
              "    <tr>\n",
              "      <th>17196</th>\n",
              "      <td>song so glad free download shoegaze newmusic n...</td>\n",
              "    </tr>\n",
              "  </tbody>\n",
              "</table>\n",
              "<p>17197 rows × 1 columns</p>\n",
              "</div>"
            ],
            "text/plain": [
              "                                                   tweet\n",
              "0      studiolife aislife requires passion dedication...\n",
              "1      white supremacists want everyone see new birds...\n",
              "2      safe ways heal acne altwaystoheal healthy healing\n",
              "3      hp cursed child book reservations already yes ...\n",
              "4      3rd bihday amazing hilarious nephew eli ahmir ...\n",
              "...                                                  ...\n",
              "17192  thought factory left right polarisation trump ...\n",
              "17193  feeling like mermaid hairflip neverready forma...\n",
              "17194  hillary campaigned today ohio omg amp used wor...\n",
              "17195  happy work conference right mindset leads cult...\n",
              "17196  song so glad free download shoegaze newmusic n...\n",
              "\n",
              "[17197 rows x 1 columns]"
            ]
          },
          "metadata": {
            "tags": []
          },
          "execution_count": 185
        }
      ]
    },
    {
      "cell_type": "code",
      "metadata": {
        "id": "hn0zx_VVVJn2",
        "colab_type": "code",
        "colab": {
          "base_uri": "https://localhost:8080/",
          "height": 406
        },
        "outputId": "deaffa71-ff8d-4919-ca87-6549320aef86"
      },
      "source": [
        "testdata.tweet=testdata.tweet.apply(lambda x:' '.join([wnl.lemmatize(word,'v') for word in x.split()])) #Applying lementization\n",
        "testdata"
      ],
      "execution_count": null,
      "outputs": [
        {
          "output_type": "execute_result",
          "data": {
            "text/html": [
              "<div>\n",
              "<style scoped>\n",
              "    .dataframe tbody tr th:only-of-type {\n",
              "        vertical-align: middle;\n",
              "    }\n",
              "\n",
              "    .dataframe tbody tr th {\n",
              "        vertical-align: top;\n",
              "    }\n",
              "\n",
              "    .dataframe thead th {\n",
              "        text-align: right;\n",
              "    }\n",
              "</style>\n",
              "<table border=\"1\" class=\"dataframe\">\n",
              "  <thead>\n",
              "    <tr style=\"text-align: right;\">\n",
              "      <th></th>\n",
              "      <th>tweet</th>\n",
              "    </tr>\n",
              "  </thead>\n",
              "  <tbody>\n",
              "    <tr>\n",
              "      <th>0</th>\n",
              "      <td>studiolife aislife require passion dedication ...</td>\n",
              "    </tr>\n",
              "    <tr>\n",
              "      <th>1</th>\n",
              "      <td>white supremacists want everyone see new bird ...</td>\n",
              "    </tr>\n",
              "    <tr>\n",
              "      <th>2</th>\n",
              "      <td>safe ways heal acne altwaystoheal healthy heal</td>\n",
              "    </tr>\n",
              "    <tr>\n",
              "      <th>3</th>\n",
              "      <td>hp curse child book reservations already yes w...</td>\n",
              "    </tr>\n",
              "    <tr>\n",
              "      <th>4</th>\n",
              "      <td>3rd bihday amaze hilarious nephew eli ahmir un...</td>\n",
              "    </tr>\n",
              "    <tr>\n",
              "      <th>...</th>\n",
              "      <td>...</td>\n",
              "    </tr>\n",
              "    <tr>\n",
              "      <th>17192</th>\n",
              "      <td>think factory leave right polarisation trump u...</td>\n",
              "    </tr>\n",
              "    <tr>\n",
              "      <th>17193</th>\n",
              "      <td>feel like mermaid hairflip neverready formal w...</td>\n",
              "    </tr>\n",
              "    <tr>\n",
              "      <th>17194</th>\n",
              "      <td>hillary campaign today ohio omg amp use word l...</td>\n",
              "    </tr>\n",
              "    <tr>\n",
              "      <th>17195</th>\n",
              "      <td>happy work conference right mindset lead cultu...</td>\n",
              "    </tr>\n",
              "    <tr>\n",
              "      <th>17196</th>\n",
              "      <td>song so glad free download shoegaze newmusic n...</td>\n",
              "    </tr>\n",
              "  </tbody>\n",
              "</table>\n",
              "<p>17197 rows × 1 columns</p>\n",
              "</div>"
            ],
            "text/plain": [
              "                                                   tweet\n",
              "0      studiolife aislife require passion dedication ...\n",
              "1      white supremacists want everyone see new bird ...\n",
              "2         safe ways heal acne altwaystoheal healthy heal\n",
              "3      hp curse child book reservations already yes w...\n",
              "4      3rd bihday amaze hilarious nephew eli ahmir un...\n",
              "...                                                  ...\n",
              "17192  think factory leave right polarisation trump u...\n",
              "17193  feel like mermaid hairflip neverready formal w...\n",
              "17194  hillary campaign today ohio omg amp use word l...\n",
              "17195  happy work conference right mindset lead cultu...\n",
              "17196  song so glad free download shoegaze newmusic n...\n",
              "\n",
              "[17197 rows x 1 columns]"
            ]
          },
          "metadata": {
            "tags": []
          },
          "execution_count": 186
        }
      ]
    },
    {
      "cell_type": "code",
      "metadata": {
        "id": "5ZItzVHHVuNQ",
        "colab_type": "code",
        "colab": {
          "base_uri": "https://localhost:8080/",
          "height": 406
        },
        "outputId": "68490a18-3a99-4146-f4ab-4314846bf736"
      },
      "source": [
        "#converting all letters to same case\n",
        "testdata.tweet=testdata.tweet.apply(lambda x:' '.join([word.lower() for word in x.split()]))\n",
        "testdata"
      ],
      "execution_count": null,
      "outputs": [
        {
          "output_type": "execute_result",
          "data": {
            "text/html": [
              "<div>\n",
              "<style scoped>\n",
              "    .dataframe tbody tr th:only-of-type {\n",
              "        vertical-align: middle;\n",
              "    }\n",
              "\n",
              "    .dataframe tbody tr th {\n",
              "        vertical-align: top;\n",
              "    }\n",
              "\n",
              "    .dataframe thead th {\n",
              "        text-align: right;\n",
              "    }\n",
              "</style>\n",
              "<table border=\"1\" class=\"dataframe\">\n",
              "  <thead>\n",
              "    <tr style=\"text-align: right;\">\n",
              "      <th></th>\n",
              "      <th>tweet</th>\n",
              "    </tr>\n",
              "  </thead>\n",
              "  <tbody>\n",
              "    <tr>\n",
              "      <th>0</th>\n",
              "      <td>studiolife aislife require passion dedication ...</td>\n",
              "    </tr>\n",
              "    <tr>\n",
              "      <th>1</th>\n",
              "      <td>white supremacists want everyone see new bird ...</td>\n",
              "    </tr>\n",
              "    <tr>\n",
              "      <th>2</th>\n",
              "      <td>safe ways heal acne altwaystoheal healthy heal</td>\n",
              "    </tr>\n",
              "    <tr>\n",
              "      <th>3</th>\n",
              "      <td>hp curse child book reservations already yes w...</td>\n",
              "    </tr>\n",
              "    <tr>\n",
              "      <th>4</th>\n",
              "      <td>3rd bihday amaze hilarious nephew eli ahmir un...</td>\n",
              "    </tr>\n",
              "    <tr>\n",
              "      <th>...</th>\n",
              "      <td>...</td>\n",
              "    </tr>\n",
              "    <tr>\n",
              "      <th>17192</th>\n",
              "      <td>think factory leave right polarisation trump u...</td>\n",
              "    </tr>\n",
              "    <tr>\n",
              "      <th>17193</th>\n",
              "      <td>feel like mermaid hairflip neverready formal w...</td>\n",
              "    </tr>\n",
              "    <tr>\n",
              "      <th>17194</th>\n",
              "      <td>hillary campaign today ohio omg amp use word l...</td>\n",
              "    </tr>\n",
              "    <tr>\n",
              "      <th>17195</th>\n",
              "      <td>happy work conference right mindset lead cultu...</td>\n",
              "    </tr>\n",
              "    <tr>\n",
              "      <th>17196</th>\n",
              "      <td>song so glad free download shoegaze newmusic n...</td>\n",
              "    </tr>\n",
              "  </tbody>\n",
              "</table>\n",
              "<p>17197 rows × 1 columns</p>\n",
              "</div>"
            ],
            "text/plain": [
              "                                                   tweet\n",
              "0      studiolife aislife require passion dedication ...\n",
              "1      white supremacists want everyone see new bird ...\n",
              "2         safe ways heal acne altwaystoheal healthy heal\n",
              "3      hp curse child book reservations already yes w...\n",
              "4      3rd bihday amaze hilarious nephew eli ahmir un...\n",
              "...                                                  ...\n",
              "17192  think factory leave right polarisation trump u...\n",
              "17193  feel like mermaid hairflip neverready formal w...\n",
              "17194  hillary campaign today ohio omg amp use word l...\n",
              "17195  happy work conference right mindset lead cultu...\n",
              "17196  song so glad free download shoegaze newmusic n...\n",
              "\n",
              "[17197 rows x 1 columns]"
            ]
          },
          "metadata": {
            "tags": []
          },
          "execution_count": 187
        }
      ]
    },
    {
      "cell_type": "code",
      "metadata": {
        "id": "6GVVs6iQXJJC",
        "colab_type": "code",
        "colab": {}
      },
      "source": [
        "X_test = testdata.tweet#Assigning tweet column to X_test"
      ],
      "execution_count": null,
      "outputs": []
    },
    {
      "cell_type": "markdown",
      "metadata": {
        "id": "5psOcTeXWIEr",
        "colab_type": "text"
      },
      "source": [
        "###Reading the result data:\n"
      ]
    },
    {
      "cell_type": "code",
      "metadata": {
        "id": "3sAt3IC_WDzS",
        "colab_type": "code",
        "colab": {
          "base_uri": "https://localhost:8080/",
          "height": 406
        },
        "outputId": "3a8987eb-fec4-476d-aaac-c1da73af2951"
      },
      "source": [
        "#Reading the result data\n",
        "result = pd.read_csv(\"/content/drive/My Drive/2020/result.csv\")\n",
        "result"
      ],
      "execution_count": null,
      "outputs": [
        {
          "output_type": "execute_result",
          "data": {
            "text/html": [
              "<div>\n",
              "<style scoped>\n",
              "    .dataframe tbody tr th:only-of-type {\n",
              "        vertical-align: middle;\n",
              "    }\n",
              "\n",
              "    .dataframe tbody tr th {\n",
              "        vertical-align: top;\n",
              "    }\n",
              "\n",
              "    .dataframe thead th {\n",
              "        text-align: right;\n",
              "    }\n",
              "</style>\n",
              "<table border=\"1\" class=\"dataframe\">\n",
              "  <thead>\n",
              "    <tr style=\"text-align: right;\">\n",
              "      <th></th>\n",
              "      <th>id</th>\n",
              "      <th>label</th>\n",
              "    </tr>\n",
              "  </thead>\n",
              "  <tbody>\n",
              "    <tr>\n",
              "      <th>0</th>\n",
              "      <td>31963</td>\n",
              "      <td>0</td>\n",
              "    </tr>\n",
              "    <tr>\n",
              "      <th>1</th>\n",
              "      <td>31964</td>\n",
              "      <td>0</td>\n",
              "    </tr>\n",
              "    <tr>\n",
              "      <th>2</th>\n",
              "      <td>31965</td>\n",
              "      <td>0</td>\n",
              "    </tr>\n",
              "    <tr>\n",
              "      <th>3</th>\n",
              "      <td>31966</td>\n",
              "      <td>0</td>\n",
              "    </tr>\n",
              "    <tr>\n",
              "      <th>4</th>\n",
              "      <td>31967</td>\n",
              "      <td>0</td>\n",
              "    </tr>\n",
              "    <tr>\n",
              "      <th>...</th>\n",
              "      <td>...</td>\n",
              "      <td>...</td>\n",
              "    </tr>\n",
              "    <tr>\n",
              "      <th>17192</th>\n",
              "      <td>49155</td>\n",
              "      <td>1</td>\n",
              "    </tr>\n",
              "    <tr>\n",
              "      <th>17193</th>\n",
              "      <td>49156</td>\n",
              "      <td>0</td>\n",
              "    </tr>\n",
              "    <tr>\n",
              "      <th>17194</th>\n",
              "      <td>49157</td>\n",
              "      <td>0</td>\n",
              "    </tr>\n",
              "    <tr>\n",
              "      <th>17195</th>\n",
              "      <td>49158</td>\n",
              "      <td>0</td>\n",
              "    </tr>\n",
              "    <tr>\n",
              "      <th>17196</th>\n",
              "      <td>49159</td>\n",
              "      <td>0</td>\n",
              "    </tr>\n",
              "  </tbody>\n",
              "</table>\n",
              "<p>17197 rows × 2 columns</p>\n",
              "</div>"
            ],
            "text/plain": [
              "          id  label\n",
              "0      31963      0\n",
              "1      31964      0\n",
              "2      31965      0\n",
              "3      31966      0\n",
              "4      31967      0\n",
              "...      ...    ...\n",
              "17192  49155      1\n",
              "17193  49156      0\n",
              "17194  49157      0\n",
              "17195  49158      0\n",
              "17196  49159      0\n",
              "\n",
              "[17197 rows x 2 columns]"
            ]
          },
          "metadata": {
            "tags": []
          },
          "execution_count": 189
        }
      ]
    },
    {
      "cell_type": "code",
      "metadata": {
        "id": "ZTaWLqLGXnJ8",
        "colab_type": "code",
        "colab": {}
      },
      "source": [
        "#Assigning the label column to y_test\n",
        "y_test = result.label"
      ],
      "execution_count": null,
      "outputs": []
    },
    {
      "cell_type": "markdown",
      "metadata": {
        "id": "S-TVIFDfWZxM",
        "colab_type": "text"
      },
      "source": [
        "###Applying TFIDF Vectorizer for training and testing data: "
      ]
    },
    {
      "cell_type": "code",
      "metadata": {
        "id": "eZ9qOWVEWSA8",
        "colab_type": "code",
        "colab": {}
      },
      "source": [
        "#Import TFIDF Vectorizer\n",
        "from sklearn.feature_extraction.text import TfidfVectorizer\n",
        "#Initialize an object for the TFIDF Vectorizer\n",
        "tfidf = TfidfVectorizer()"
      ],
      "execution_count": null,
      "outputs": []
    },
    {
      "cell_type": "code",
      "metadata": {
        "id": "gb_ueh_LXxDX",
        "colab_type": "code",
        "colab": {
          "base_uri": "https://localhost:8080/",
          "height": 52
        },
        "outputId": "23968b03-46cc-4719-e610-81ee45f73fdc"
      },
      "source": [
        "#Apply the tfidf to the train data(X_train)\n",
        "X_train_new= tfidf.fit_transform(X_train)\n",
        "X_train_new"
      ],
      "execution_count": null,
      "outputs": [
        {
          "output_type": "execute_result",
          "data": {
            "text/plain": [
              "<31962x35865 sparse matrix of type '<class 'numpy.float64'>'\n",
              "\twith 253455 stored elements in Compressed Sparse Row format>"
            ]
          },
          "metadata": {
            "tags": []
          },
          "execution_count": 192
        }
      ]
    },
    {
      "cell_type": "code",
      "metadata": {
        "id": "P_hrka_xYJPY",
        "colab_type": "code",
        "colab": {
          "base_uri": "https://localhost:8080/",
          "height": 52
        },
        "outputId": "0c4f2b99-9bff-4e69-b144-3988d1f59114"
      },
      "source": [
        "##Apply the tfidf to the test data(X_test)\n",
        "X_test_new = tfidf.transform(testdata.tweet)\n",
        "X_test_new"
      ],
      "execution_count": null,
      "outputs": [
        {
          "output_type": "execute_result",
          "data": {
            "text/plain": [
              "<17197x35865 sparse matrix of type '<class 'numpy.float64'>'\n",
              "\twith 123657 stored elements in Compressed Sparse Row format>"
            ]
          },
          "metadata": {
            "tags": []
          },
          "execution_count": 193
        }
      ]
    },
    {
      "cell_type": "markdown",
      "metadata": {
        "id": "nnHiaUt8ZzVT",
        "colab_type": "text"
      },
      "source": [
        "###Naive-Bayes Algorithm:"
      ]
    },
    {
      "cell_type": "code",
      "metadata": {
        "id": "NasnCVUiYgFU",
        "colab_type": "code",
        "colab": {}
      },
      "source": [
        "#Import BerNB\n",
        "from sklearn.naive_bayes import BernoulliNB\n",
        "\n",
        "#Creating an object for BerNB\n",
        "model_BernNB = BernoulliNB()"
      ],
      "execution_count": null,
      "outputs": []
    },
    {
      "cell_type": "code",
      "metadata": {
        "id": "-ycsurBgaCxP",
        "colab_type": "code",
        "colab": {
          "base_uri": "https://localhost:8080/",
          "height": 34
        },
        "outputId": "b31ec399-7a84-4aab-efb6-6f69d86e05e4"
      },
      "source": [
        "#Applying the Algorithm\n",
        "model_BernNB.fit(X_train_new,y_train)"
      ],
      "execution_count": null,
      "outputs": [
        {
          "output_type": "execute_result",
          "data": {
            "text/plain": [
              "BernoulliNB(alpha=1.0, binarize=0.0, class_prior=None, fit_prior=True)"
            ]
          },
          "metadata": {
            "tags": []
          },
          "execution_count": 195
        }
      ]
    },
    {
      "cell_type": "code",
      "metadata": {
        "id": "7JE40FAZaHFf",
        "colab_type": "code",
        "colab": {
          "base_uri": "https://localhost:8080/",
          "height": 34
        },
        "outputId": "187b5adb-ba07-4bf7-b64b-2576c6ad8361"
      },
      "source": [
        "#Prediction on train data\n",
        "y_train_pred = model_BernNB.predict(X_train_new)\n",
        "y_train_pred"
      ],
      "execution_count": null,
      "outputs": [
        {
          "output_type": "execute_result",
          "data": {
            "text/plain": [
              "array([0, 0, 0, ..., 0, 1, 0])"
            ]
          },
          "metadata": {
            "tags": []
          },
          "execution_count": 196
        }
      ]
    },
    {
      "cell_type": "code",
      "metadata": {
        "id": "AUx1qAQ9akM-",
        "colab_type": "code",
        "colab": {
          "base_uri": "https://localhost:8080/",
          "height": 34
        },
        "outputId": "49970c4b-3b79-4b85-ed08-1860a9e170c4"
      },
      "source": [
        "#Prediction on Test Data\n",
        "y_test_pred = model_BernNB.predict(X_test_new)\n",
        "y_test_pred"
      ],
      "execution_count": null,
      "outputs": [
        {
          "output_type": "execute_result",
          "data": {
            "text/plain": [
              "array([0, 0, 0, ..., 0, 0, 0])"
            ]
          },
          "metadata": {
            "tags": []
          },
          "execution_count": 197
        }
      ]
    },
    {
      "cell_type": "code",
      "metadata": {
        "id": "NOUOJCiaa838",
        "colab_type": "code",
        "colab": {
          "base_uri": "https://localhost:8080/",
          "height": 354
        },
        "outputId": "7a4af4bc-5c85-4c00-cee5-73eb0231afbb"
      },
      "source": [
        "#Classification report on train and test data\n",
        "from sklearn.metrics import confusion_matrix,classification_report\n",
        "print(classification_report(y_train,y_train_pred))\n",
        "print('_________________________________________________________')\n",
        "print(classification_report(y_test,y_test_pred))"
      ],
      "execution_count": null,
      "outputs": [
        {
          "output_type": "stream",
          "text": [
            "              precision    recall  f1-score   support\n",
            "\n",
            "           0       0.96      1.00      0.98     29720\n",
            "           1       0.97      0.38      0.55      2242\n",
            "\n",
            "    accuracy                           0.96     31962\n",
            "   macro avg       0.97      0.69      0.76     31962\n",
            "weighted avg       0.96      0.96      0.95     31962\n",
            "\n",
            "_________________________________________________________\n",
            "              precision    recall  f1-score   support\n",
            "\n",
            "           0       0.96      1.00      0.98     16282\n",
            "           1       0.83      0.27      0.41       915\n",
            "\n",
            "    accuracy                           0.96     17197\n",
            "   macro avg       0.89      0.63      0.69     17197\n",
            "weighted avg       0.95      0.96      0.95     17197\n",
            "\n"
          ],
          "name": "stdout"
        }
      ]
    },
    {
      "cell_type": "code",
      "metadata": {
        "id": "UYvJ76Nabw5W",
        "colab_type": "code",
        "colab": {
          "base_uri": "https://localhost:8080/",
          "height": 283
        },
        "outputId": "8cbf6aba-aa91-4606-a3c1-ace1e7f3c141"
      },
      "source": [
        "#Heat map of Naive-Bayes Algorithm\n",
        "sns.heatmap(confusion_matrix(y_test,y_test_pred),annot = True,fmt = '3.0f',annot_kws={'size':'20'})"
      ],
      "execution_count": null,
      "outputs": [
        {
          "output_type": "execute_result",
          "data": {
            "text/plain": [
              "<matplotlib.axes._subplots.AxesSubplot at 0x7fba81febe80>"
            ]
          },
          "metadata": {
            "tags": []
          },
          "execution_count": 199
        },
        {
          "output_type": "display_data",
          "data": {
            "image/png": "[encoded data removed]",
            "text/plain": [
              "<Figure size 432x288 with 2 Axes>"
            ]
          },
          "metadata": {
            "tags": [],
            "needs_background": "light"
          }
        }
      ]
    },
    {
      "cell_type": "code",
      "metadata": {
        "id": "yzDIhSrKg8Ja",
        "colab_type": "code",
        "colab": {
          "base_uri": "https://localhost:8080/",
          "height": 34
        },
        "outputId": "4a72fac5-ee1c-4285-f0df-0585cc26b148"
      },
      "source": [
        " #Finding Accuracy score\n",
        " from sklearn.metrics import accuracy_score\n",
        " accuracy_score(y_test,y_test_pred)"
      ],
      "execution_count": null,
      "outputs": [
        {
          "output_type": "execute_result",
          "data": {
            "text/plain": [
              "0.9581322323661103"
            ]
          },
          "metadata": {
            "tags": []
          },
          "execution_count": 200
        }
      ]
    },
    {
      "cell_type": "code",
      "metadata": {
        "id": "Ob4nU2TA-BcG",
        "colab_type": "code",
        "colab": {
          "base_uri": "https://localhost:8080/",
          "height": 34
        },
        "outputId": "25891c4b-7f8f-4c7e-d05e-c24198873267"
      },
      "source": [
        "#Finding roc_auc_score\n",
        "from sklearn.metrics import roc_auc_score\n",
        "roc_auc_score(y_test,y_test_pred)"
      ],
      "execution_count": null,
      "outputs": [
        {
          "output_type": "execute_result",
          "data": {
            "text/plain": [
              "0.6333758221724617"
            ]
          },
          "metadata": {
            "tags": []
          },
          "execution_count": 201
        }
      ]
    },
    {
      "cell_type": "markdown",
      "metadata": {
        "id": "tT_urtrgcqPq",
        "colab_type": "text"
      },
      "source": [
        "###Logistic Regression:"
      ]
    },
    {
      "cell_type": "code",
      "metadata": {
        "id": "pQhKwT8EcW-G",
        "colab_type": "code",
        "colab": {
          "base_uri": "https://localhost:8080/",
          "height": 105
        },
        "outputId": "d161d1ca-638c-453c-8ef1-090e34598196"
      },
      "source": [
        "#Importing and applying the algorithm\n",
        "from sklearn.linear_model import LogisticRegression\n",
        "reg=LogisticRegression()\n",
        "reg.fit(X_train_new,y_train)"
      ],
      "execution_count": null,
      "outputs": [
        {
          "output_type": "execute_result",
          "data": {
            "text/plain": [
              "LogisticRegression(C=1.0, class_weight=None, dual=False, fit_intercept=True,\n",
              "                   intercept_scaling=1, l1_ratio=None, max_iter=100,\n",
              "                   multi_class='auto', n_jobs=None, penalty='l2',\n",
              "                   random_state=None, solver='lbfgs', tol=0.0001, verbose=0,\n",
              "                   warm_start=False)"
            ]
          },
          "metadata": {
            "tags": []
          },
          "execution_count": 202
        }
      ]
    },
    {
      "cell_type": "code",
      "metadata": {
        "id": "rt8blJ4-coGh",
        "colab_type": "code",
        "colab": {
          "base_uri": "https://localhost:8080/",
          "height": 34
        },
        "outputId": "f4aad8a2-08d1-42a4-8914-68ee8946fc0e"
      },
      "source": [
        "#predicting on training data\n",
        "L_train_pred=reg.predict(X_train_new)\n",
        "L_train_pred"
      ],
      "execution_count": null,
      "outputs": [
        {
          "output_type": "execute_result",
          "data": {
            "text/plain": [
              "array([0, 0, 0, ..., 0, 1, 0])"
            ]
          },
          "metadata": {
            "tags": []
          },
          "execution_count": 203
        }
      ]
    },
    {
      "cell_type": "code",
      "metadata": {
        "id": "W0-lR4PRdcDd",
        "colab_type": "code",
        "colab": {
          "base_uri": "https://localhost:8080/",
          "height": 34
        },
        "outputId": "49c21986-2cda-4a6f-a4c3-67f70bf510bc"
      },
      "source": [
        "#predicting on testing data\n",
        "L_test_pred=reg.predict(X_test_new)\n",
        "L_test_pred"
      ],
      "execution_count": null,
      "outputs": [
        {
          "output_type": "execute_result",
          "data": {
            "text/plain": [
              "array([0, 0, 0, ..., 0, 0, 0])"
            ]
          },
          "metadata": {
            "tags": []
          },
          "execution_count": 204
        }
      ]
    },
    {
      "cell_type": "code",
      "metadata": {
        "id": "28QkapQjdmdY",
        "colab_type": "code",
        "colab": {
          "base_uri": "https://localhost:8080/",
          "height": 354
        },
        "outputId": "9acf1ede-d657-4680-b516-1c370cf11fc4"
      },
      "source": [
        "# Classification report on training and testing data\n",
        "from sklearn.metrics import classification_report\n",
        "print(classification_report(y_train,L_train_pred))\n",
        "print('______________________________________________________')\n",
        "print(classification_report(y_test,L_test_pred))"
      ],
      "execution_count": null,
      "outputs": [
        {
          "output_type": "stream",
          "text": [
            "              precision    recall  f1-score   support\n",
            "\n",
            "           0       0.96      1.00      0.98     29720\n",
            "           1       0.96      0.39      0.55      2242\n",
            "\n",
            "    accuracy                           0.96     31962\n",
            "   macro avg       0.96      0.69      0.76     31962\n",
            "weighted avg       0.96      0.96      0.95     31962\n",
            "\n",
            "______________________________________________________\n",
            "              precision    recall  f1-score   support\n",
            "\n",
            "           0       0.97      1.00      0.98     16282\n",
            "           1       0.93      0.49      0.64       915\n",
            "\n",
            "    accuracy                           0.97     17197\n",
            "   macro avg       0.95      0.75      0.81     17197\n",
            "weighted avg       0.97      0.97      0.97     17197\n",
            "\n"
          ],
          "name": "stdout"
        }
      ]
    },
    {
      "cell_type": "code",
      "metadata": {
        "id": "xCEtGqe-eRiO",
        "colab_type": "code",
        "colab": {
          "base_uri": "https://localhost:8080/",
          "height": 283
        },
        "outputId": "1383e521-7897-47c5-a707-448277c54f66"
      },
      "source": [
        "#Heat map of Linear Regression\n",
        "sns.heatmap(confusion_matrix(y_test,L_test_pred),annot = True,fmt = '3.0f',annot_kws={'size':'20'})"
      ],
      "execution_count": null,
      "outputs": [
        {
          "output_type": "execute_result",
          "data": {
            "text/plain": [
              "<matplotlib.axes._subplots.AxesSubplot at 0x7fba82eddfd0>"
            ]
          },
          "metadata": {
            "tags": []
          },
          "execution_count": 206
        },
        {
          "output_type": "display_data",
          "data": {
            "image/png": "[encoded data removed]",
            "text/plain": [
              "<Figure size 432x288 with 2 Axes>"
            ]
          },
          "metadata": {
            "tags": [],
            "needs_background": "light"
          }
        }
      ]
    },
    {
      "cell_type": "code",
      "metadata": {
        "id": "ZEiveN2ah3kw",
        "colab_type": "code",
        "colab": {
          "base_uri": "https://localhost:8080/",
          "height": 34
        },
        "outputId": "452c38e8-4172-4267-d130-e94681aff867"
      },
      "source": [
        "#Finding the accuracy acore of Linear regression\n",
        "from sklearn.metrics import accuracy_score\n",
        "accuracy_score(y_test,L_test_pred)"
      ],
      "execution_count": null,
      "outputs": [
        {
          "output_type": "execute_result",
          "data": {
            "text/plain": [
              "0.9709251613653544"
            ]
          },
          "metadata": {
            "tags": []
          },
          "execution_count": 207
        }
      ]
    },
    {
      "cell_type": "code",
      "metadata": {
        "id": "AeQoTwva-50g",
        "colab_type": "code",
        "colab": {
          "base_uri": "https://localhost:8080/",
          "height": 34
        },
        "outputId": "df9819db-a1a8-4b8d-f8d2-020bfe4f3411"
      },
      "source": [
        "#Finding the roc_auc_score\n",
        "roc_auc_score(y_test,L_test_pred)"
      ],
      "execution_count": null,
      "outputs": [
        {
          "output_type": "execute_result",
          "data": {
            "text/plain": [
              "0.7453425721387325"
            ]
          },
          "metadata": {
            "tags": []
          },
          "execution_count": 208
        }
      ]
    },
    {
      "cell_type": "markdown",
      "metadata": {
        "id": "k7wIl8fQfCoQ",
        "colab_type": "text"
      },
      "source": [
        "###Decision Tree Classifier:"
      ]
    },
    {
      "cell_type": "code",
      "metadata": {
        "id": "lboNzth4e51b",
        "colab_type": "code",
        "colab": {
          "base_uri": "https://localhost:8080/",
          "height": 123
        },
        "outputId": "05663eb4-a645-44ef-b918-323f02b30c42"
      },
      "source": [
        "# Apply the Decision Tree Algorithm\n",
        "from sklearn.tree import DecisionTreeClassifier\n",
        "\n",
        "#Initailization of object\n",
        "dtree = DecisionTreeClassifier()\n",
        "\n",
        "# Applying the classifier to the dataset\n",
        "dtree.fit(X_train_new, y_train)"
      ],
      "execution_count": null,
      "outputs": [
        {
          "output_type": "execute_result",
          "data": {
            "text/plain": [
              "DecisionTreeClassifier(ccp_alpha=0.0, class_weight=None, criterion='gini',\n",
              "                       max_depth=None, max_features=None, max_leaf_nodes=None,\n",
              "                       min_impurity_decrease=0.0, min_impurity_split=None,\n",
              "                       min_samples_leaf=1, min_samples_split=2,\n",
              "                       min_weight_fraction_leaf=0.0, presort='deprecated',\n",
              "                       random_state=None, splitter='best')"
            ]
          },
          "metadata": {
            "tags": []
          },
          "execution_count": 209
        }
      ]
    },
    {
      "cell_type": "code",
      "metadata": {
        "id": "LJ2uogmCesAc",
        "colab_type": "code",
        "colab": {
          "base_uri": "https://localhost:8080/",
          "height": 34
        },
        "outputId": "3694236d-a74a-46ff-9e2f-72d8922ee18c"
      },
      "source": [
        "# Predict on training data\n",
        "D_train_pred = dtree.predict(X_train_new)\n",
        "D_train_pred"
      ],
      "execution_count": null,
      "outputs": [
        {
          "output_type": "execute_result",
          "data": {
            "text/plain": [
              "array([0, 0, 0, ..., 0, 1, 0])"
            ]
          },
          "metadata": {
            "tags": []
          },
          "execution_count": 210
        }
      ]
    },
    {
      "cell_type": "code",
      "metadata": {
        "id": "y1eL2LHJfumc",
        "colab_type": "code",
        "colab": {
          "base_uri": "https://localhost:8080/",
          "height": 34
        },
        "outputId": "1bdf3faf-6aaf-40a6-c20e-76c0dec1fc5f"
      },
      "source": [
        "# Prediction on testing data\n",
        "D_test_pred =  dtree.predict(X_test_new) \n",
        "D_test_pred"
      ],
      "execution_count": null,
      "outputs": [
        {
          "output_type": "execute_result",
          "data": {
            "text/plain": [
              "array([0, 1, 0, ..., 0, 0, 0])"
            ]
          },
          "metadata": {
            "tags": []
          },
          "execution_count": 211
        }
      ]
    },
    {
      "cell_type": "code",
      "metadata": {
        "id": "6leRheWFgJTT",
        "colab_type": "code",
        "colab": {
          "base_uri": "https://localhost:8080/",
          "height": 354
        },
        "outputId": "eb163f1b-a735-4362-ebde-014f513f9a5f"
      },
      "source": [
        "# Classification report on training and testing data\n",
        "print(classification_report(y_train,D_train_pred))\n",
        "print('______________________________________________________')\n",
        "print(classification_report(y_test,D_test_pred))"
      ],
      "execution_count": null,
      "outputs": [
        {
          "output_type": "stream",
          "text": [
            "              precision    recall  f1-score   support\n",
            "\n",
            "           0       1.00      1.00      1.00     29720\n",
            "           1       1.00      1.00      1.00      2242\n",
            "\n",
            "    accuracy                           1.00     31962\n",
            "   macro avg       1.00      1.00      1.00     31962\n",
            "weighted avg       1.00      1.00      1.00     31962\n",
            "\n",
            "______________________________________________________\n",
            "              precision    recall  f1-score   support\n",
            "\n",
            "           0       0.98      0.96      0.97     16282\n",
            "           1       0.48      0.63      0.55       915\n",
            "\n",
            "    accuracy                           0.94     17197\n",
            "   macro avg       0.73      0.80      0.76     17197\n",
            "weighted avg       0.95      0.94      0.95     17197\n",
            "\n"
          ],
          "name": "stdout"
        }
      ]
    },
    {
      "cell_type": "code",
      "metadata": {
        "id": "H6-4zThqgpcu",
        "colab_type": "code",
        "colab": {
          "base_uri": "https://localhost:8080/",
          "height": 282
        },
        "outputId": "30a67a69-0479-4641-8e59-0f77df341300"
      },
      "source": [
        "#Heat map of Decision tree algorithm\n",
        "sns.heatmap(confusion_matrix(y_test,D_test_pred),annot = True,fmt = '3.0f',annot_kws={'size':'20'})"
      ],
      "execution_count": null,
      "outputs": [
        {
          "output_type": "execute_result",
          "data": {
            "text/plain": [
              "<matplotlib.axes._subplots.AxesSubplot at 0x7fba8225fa20>"
            ]
          },
          "metadata": {
            "tags": []
          },
          "execution_count": 213
        },
        {
          "output_type": "display_data",
          "data": {
            "image/png": "[encoded data removed]",
            "text/plain": [
              "<Figure size 432x288 with 2 Axes>"
            ]
          },
          "metadata": {
            "tags": [],
            "needs_background": "light"
          }
        }
      ]
    },
    {
      "cell_type": "code",
      "metadata": {
        "id": "YBsu-wYMg1Rc",
        "colab_type": "code",
        "colab": {
          "base_uri": "https://localhost:8080/",
          "height": 34
        },
        "outputId": "65028377-72ee-4219-b5da-b9e1f6eaa9d0"
      },
      "source": [
        " #Finding the accuracy score of Decision  tree algorithm\n",
        " from sklearn.metrics import accuracy_score\n",
        " accuracy_score(y_test,D_test_pred)"
      ],
      "execution_count": null,
      "outputs": [
        {
          "output_type": "execute_result",
          "data": {
            "text/plain": [
              "0.9439437111124033"
            ]
          },
          "metadata": {
            "tags": []
          },
          "execution_count": 214
        }
      ]
    },
    {
      "cell_type": "code",
      "metadata": {
        "id": "BQ5lgg2x-_zM",
        "colab_type": "code",
        "colab": {
          "base_uri": "https://localhost:8080/",
          "height": 34
        },
        "outputId": "169e0f8d-8966-46f0-a2a1-8cb071b99529"
      },
      "source": [
        "#Finding the roc_auc_score\n",
        "roc_auc_score(y_test,D_test_pred)"
      ],
      "execution_count": null,
      "outputs": [
        {
          "output_type": "execute_result",
          "data": {
            "text/plain": [
              "0.798139821170987"
            ]
          },
          "metadata": {
            "tags": []
          },
          "execution_count": 215
        }
      ]
    },
    {
      "cell_type": "markdown",
      "metadata": {
        "id": "eJA2eyibiC5T",
        "colab_type": "text"
      },
      "source": [
        "###Best among Naive-Bayes,Logistic Regression and Decision Tree Classifier:\n"
      ]
    },
    {
      "cell_type": "code",
      "metadata": {
        "id": "fu17RdRQh9gC",
        "colab_type": "code",
        "colab": {
          "base_uri": "https://localhost:8080/",
          "height": 294
        },
        "outputId": "c61b64f5-937e-4c1f-8912-79f4c645df09"
      },
      "source": [
        "#Plot of accuracies\n",
        "models = ['Naive-Bayes','Logistic Regression','Decision Tree Classifier']\n",
        "acc_scores = [0.9583648310751876,0.970634412979008,0.9441763098214805]\n",
        "plt.bar(models,acc_scores,color=['pink','lightgreen','lightblue'])\n",
        "plt.ylabel(\"Accuracy scores\")\n",
        "plt.xlabel(\"Models\")\n",
        "plt.title(\"Accuracy of different models\")\n",
        "plt.show()"
      ],
      "execution_count": null,
      "outputs": [
        {
          "output_type": "display_data",
          "data": {
            "image/png": "[encoded data removed]",
            "text/plain": [
              "<Figure size 432x288 with 1 Axes>"
            ]
          },
          "metadata": {
            "tags": [],
            "needs_background": "light"
          }
        }
      ]
    },
    {
      "cell_type": "markdown",
      "metadata": {
        "id": "XtDksOCe_PyM",
        "colab_type": "text"
      },
      "source": [
        "###Plot of different methods w.r.t roc_auc_score:"
      ]
    },
    {
      "cell_type": "code",
      "metadata": {
        "id": "WMDjSa0o_Ejb",
        "colab_type": "code",
        "colab": {
          "base_uri": "https://localhost:8080/",
          "height": 294
        },
        "outputId": "5ba6b504-8a8e-4a4a-aba1-7552fbca2eed"
      },
      "source": [
        "#Plot of roc_auc_scoes\n",
        "models = ['Naive-Bayes','Logistic Regression','Decision Tree Classifier']\n",
        "roc_auc_score = [0.633375822172461,0.7453425721387325,0.7992760452220864]\n",
        "plt.bar(models,roc_auc_score,color=['pink','lightgreen','lightblue'])\n",
        "plt.ylabel(\"roc_auc_score\")\n",
        "plt.xlabel(\"Models\")\n",
        "plt.title(\"roc_auc_score of different models\")\n",
        "plt.show()\n"
      ],
      "execution_count": null,
      "outputs": [
        {
          "output_type": "display_data",
          "data": {
            "image/png": "[encoded data removed]",
            "text/plain": [
              "<Figure size 432x288 with 1 Axes>"
            ]
          },
          "metadata": {
            "tags": [],
            "needs_background": "light"
          }
        }
      ]
    },
    {
      "cell_type": "markdown",
      "metadata": {
        "id": "Y5UVNpHdNqgr",
        "colab_type": "text"
      },
      "source": [
        "###Conclusion:\n",
        "Twitter Sentiment Analysis allows a deeper understanding of how your\n",
        "customers feel.. It adds an extra layer to the traditional metrics used to analyze the\n",
        "performance of brands on social media and provides businesses with powerful\n",
        "opportunities.\n"
      ]
    },
    {
      "cell_type": "code",
      "metadata": {
        "id": "FibMmWVRNx_L",
        "colab_type": "code",
        "colab": {}
      },
      "source": [
        ""
      ],
      "execution_count": null,
      "outputs": []
    }
  ]
}